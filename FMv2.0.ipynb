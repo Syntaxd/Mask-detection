{
 "cells": [
  {
   "cell_type": "code",
   "execution_count": 1,
   "metadata": {
    "_cell_guid": "b1076dfc-b9ad-4769-8c92-a6c4dae69d19",
    "_uuid": "8f2839f25d086af736a60e9eeb907d3b93b6e0e5"
   },
   "outputs": [
    {
     "name": "stdout",
     "output_type": "stream",
     "text": [
      "Importing all libraries\n"
     ]
    }
   ],
   "source": [
    "print('Importing all libraries')\n",
    "# This Python 3 environment comes with many helpful analytics libraries installed\n",
    "# It is defined by the kaggle/python Docker image: https://github.com/kaggle/docker-python\n",
    "# For example, here's several helpful packages to load\n",
    "\n",
    "import numpy as np # linear algebra\n",
    "import pandas as pd # data processing, CSV file I/O (e.g. pd.read_csv)\n",
    "import tensorflow as tf\n",
    "from tensorflow import keras as keras\n",
    "from tensorflow.keras.models import Sequential\n",
    "from tensorflow.keras.layers import Dense,Activation,Flatten,Dropout\n",
    "from tensorflow.keras.layers import Conv2D,MaxPooling2D\n",
    "from tensorflow.keras.callbacks import ModelCheckpoint\n",
    "from tensorflow.keras.preprocessing.image import ImageDataGenerator\n",
    "from tensorflow.keras import layers\n",
    "\n",
    "import cv2, IPython, PIL, time\n",
    "from io import BytesIO\n",
    "\n",
    "# Input data files are available in the read-only \"../input/\" directory\n",
    "# For example, running this (by clicking run or pressing Shift+Enter) will list all files under the input directory\n",
    "\n",
    "\n",
    "# You can write up to 20GB to the current directory (/kaggle/working/) that gets preserved as output when you create a version using \"Save & Run All\" \n",
    "# You can also write temporary files to /kaggle/temp/, but they won't be saved outside of the current session"
   ]
  },
  {
   "cell_type": "code",
   "execution_count": 2,
   "metadata": {},
   "outputs": [
    {
     "name": "stdout",
     "output_type": "stream",
     "text": [
      "Files found\n"
     ]
    }
   ],
   "source": [
    "datagen = ImageDataGenerator (\n",
    "            rescale = 1./255, \n",
    "            shear_range=0.2,\n",
    "            zoom_range=0.2,\n",
    "            horizontal_flip=True,\n",
    "            )\n",
    "images_dir = './New Masks Dataset/'\n",
    "print('Files found')"
   ]
  },
  {
   "cell_type": "code",
   "execution_count": 3,
   "metadata": {
    "_cell_guid": "79c7e3d0-c299-4dcb-8224-4455121ee9b0",
    "_uuid": "d629ff2d2480ee46fbb7e2d37f6b5fab8052498a"
   },
   "outputs": [
    {
     "name": "stdout",
     "output_type": "stream",
     "text": [
      "Training set\n",
      "Found 600 images belonging to 2 classes.\n",
      "Test set\n",
      "Found 111 images belonging to 2 classes.\n",
      "Validation set\n",
      "Found 306 images belonging to 2 classes.\n"
     ]
    }
   ],
   "source": [
    "# load the data using data generators\n",
    "print('Training set')\n",
    "train_generator  =    datagen.flow_from_directory(\n",
    "                             images_dir + 'Train',\n",
    "                             seed=42,\n",
    "                             target_size = (200,200),\n",
    "                             batch_size =64 ,               \n",
    "                             class_mode = 'binary',\n",
    "                            )\n",
    "\n",
    "print('Test set')\n",
    "test_generator = datagen.flow_from_directory(\n",
    "                             images_dir + 'Test' ,\n",
    "                             seed=42, \n",
    "                             target_size = (200,200),\n",
    "                             batch_size = 64 ,               \n",
    "                             class_mode = 'binary',\n",
    "                            )\n",
    "\n",
    "print('Validation set')\n",
    "validation_generator = datagen.flow_from_directory(\n",
    "                             images_dir + 'Validation' ,\n",
    "                             seed=42, \n",
    "                             target_size = (200,200),\n",
    "                             batch_size = 64 ,               \n",
    "                             class_mode = 'binary',\n",
    "                            )"
   ]
  },
  {
   "cell_type": "code",
   "execution_count": 4,
   "metadata": {},
   "outputs": [
    {
     "name": "stdout",
     "output_type": "stream",
     "text": [
      "Model defnined\n"
     ]
    }
   ],
   "source": [
    "from tensorflow.keras.layers import Dense,Activation,Flatten,Dropout\n",
    "from tensorflow.keras.layers import Conv2D,MaxPooling2D\n",
    "from tensorflow.keras.callbacks import ModelCheckpoint\n",
    "\n",
    "model=Sequential()\n",
    "\n",
    "model.add(Conv2D(32,(3,3),input_shape=(200,200,3)))\n",
    "model.add(Activation('relu'))\n",
    "model.add(MaxPooling2D(pool_size=(2,2)))\n",
    "#The first CNN layer followed by Relu and MaxPooling layers\n",
    "\n",
    "model.add(Conv2D(64,(3,3)))\n",
    "model.add(Activation('relu'))\n",
    "model.add(MaxPooling2D(pool_size=(2,2)))\n",
    "#The second convolution layer followed by Relu and MaxPooling layers\n",
    "\n",
    "model.add(Flatten())\n",
    "model.add(Dropout(0.5))\n",
    "#Flatten layer to stack the output convolutions from second convolution layer\n",
    "model.add(Dense(128,activation='relu'))\n",
    "#Dense layer of 128 neurons\n",
    "model.add(Dense(2,activation='softmax'))\n",
    "#The Final layer with two outputs for two categories\n",
    "\n",
    "# model.compile(loss='sparse_categorical_crossentropy',optimizer='adam',metrics=['accuracy'])\n",
    "\n",
    "model.compile(optimizer='adam',\n",
    "              loss=tf.keras.losses.SparseCategoricalCrossentropy(from_logits=True), \n",
    "              metrics=['accuracy'])\n",
    "print('Model defnined')"
   ]
  },
  {
   "cell_type": "code",
   "execution_count": 5,
   "metadata": {},
   "outputs": [
    {
     "name": "stdout",
     "output_type": "stream",
     "text": [
      "Epoch 1/5\n",
      "10/10 [==============================] - 22s 2s/step - loss: 4.7128 - accuracy: 0.5474 - val_loss: 0.4294 - val_accuracy: 0.8497\n",
      "Epoch 2/5\n",
      "10/10 [==============================] - 20s 2s/step - loss: 0.3908 - accuracy: 0.8463 - val_loss: 0.3584 - val_accuracy: 0.8529\n",
      "Epoch 3/5\n",
      "10/10 [==============================] - 22s 2s/step - loss: 0.2616 - accuracy: 0.9023 - val_loss: 0.2603 - val_accuracy: 0.8954\n",
      "Epoch 4/5\n",
      "10/10 [==============================] - 20s 2s/step - loss: 0.2381 - accuracy: 0.9120 - val_loss: 0.2595 - val_accuracy: 0.9052\n",
      "Epoch 5/5\n",
      "10/10 [==============================] - 20s 2s/step - loss: 0.1956 - accuracy: 0.9380 - val_loss: 0.3361 - val_accuracy: 0.8627\n"
     ]
    }
   ],
   "source": [
    "H = model.fit(\n",
    "        train_generator,\n",
    "        epochs = 5,\n",
    "        validation_data = validation_generator,\n",
    "        shuffle=True,)\n",
    "# https://www.tensorflow.org/tutorials/keras/save_and_load"
   ]
  },
  {
   "cell_type": "code",
   "execution_count": null,
   "metadata": {},
   "outputs": [],
   "source": []
  },
  {
   "cell_type": "code",
   "execution_count": 6,
   "metadata": {},
   "outputs": [
    {
     "data": {
      "image/png": "[encoded data removed]",
      "text/plain": [
       "<Figure size 432x288 with 1 Axes>"
      ]
     },
     "metadata": {},
     "output_type": "display_data"
    }
   ],
   "source": [
    "from matplotlib import pyplot as plt\n",
    "plt.style.use('ggplot')\n",
    "plots = ['val_accuracy','val_loss', 'accuracy', 'loss']\n",
    "co = ['red','green','blue', 'orange']\n",
    "cu = 0\n",
    "for what in plots:\n",
    "    y1 = []\n",
    "    for x in H.history[what]:\n",
    "        y1.append(x)\n",
    "    plt.plot(H.epoch, y1, color=co[cu],linewidth = 1, label = what)\n",
    "    cu +=1\n",
    "plt.xlabel('Epoch') \n",
    "plt.ylabel('Accuracy') \n",
    "plt.legend() \n",
    "plt.show() \n"
   ]
  },
  {
   "cell_type": "code",
   "execution_count": 7,
   "metadata": {},
   "outputs": [],
   "source": [
    "import cv2\n",
    "import time\n",
    "def image_resize(image, width = None, height = None, inter = cv2.INTER_AREA):\n",
    "    # initialize the dimensions of the image to be resized and\n",
    "    # grab the image size\n",
    "    dim = None\n",
    "    (h, w) = image.shape[:2]\n",
    "\n",
    "    # if both the width and height are None, then return the\n",
    "    # original image\n",
    "    if width is None and height is None:\n",
    "        return image\n",
    "\n",
    "    # check to see if the width is None\n",
    "    if width is None:\n",
    "        # calculate the ratio of the height and construct the\n",
    "        # dimensions\n",
    "        r = height / float(h)\n",
    "        dim = (int(w * r), height)\n",
    "\n",
    "    # otherwise, the height is None\n",
    "    else:\n",
    "        # calculate the ratio of the width and construct the\n",
    "        # dimensions\n",
    "        r = width / float(w)\n",
    "        dim = (width, int(h * r))\n",
    "\n",
    "    # resize the image\n",
    "    resized = cv2.resize(image, dim, interpolation = inter)\n",
    "\n",
    "    # return the resized image\n",
    "    return resized\n"
   ]
  },
  {
   "cell_type": "code",
   "execution_count": 8,
   "metadata": {},
   "outputs": [],
   "source": [
    "def image_reshape(image, dimension=200):\n",
    "\n",
    "    image = image_resize(image, height=dimension)\n",
    "    (h, w, c) = image.shape\n",
    "    offset = int((w-dimension)/2)\n",
    "    image = image[0:dimension, offset:dimension+offset, 0:c]\n",
    "    return image\n",
    "    "
   ]
  },
  {
   "cell_type": "code",
   "execution_count": 9,
   "metadata": {},
   "outputs": [],
   "source": [
    "def get_frame(cam):\n",
    "    # Capture frame-by-frame\n",
    "    ret, frame = cam.read()\n",
    "\n",
    "    #flip image for natural viewing\n",
    "    frame = cv2.flip(frame, 1)\n",
    "\n",
    "    return frame\n",
    "#Use 'jpeg' instead of 'png' (~5 times faster)\n",
    "def array_to_image(a, fmt='jpeg'):\n",
    "    #Create binary stream object\n",
    "    f = BytesIO()\n",
    "\n",
    "    #Convert array to binary stream object\n",
    "    PIL.Image.fromarray(a).save(f, fmt)\n",
    "\n",
    "    return IPython.display.Image(data=f.getvalue())"
   ]
  },
  {
   "cell_type": "code",
   "execution_count": 23,
   "metadata": {},
   "outputs": [
    {
     "name": "stdout",
     "output_type": "stream",
     "text": [
      "Stream stopped\n"
     ]
    }
   ],
   "source": [
    "from tensorflow.keras.preprocessing import image\n",
    "cam = cv2.VideoCapture(1)\n",
    "\n",
    "d = IPython.display.display(\"\", display_id=1)\n",
    "d2 = IPython.display.display(\"\", display_id=2)\n",
    "while True:\n",
    "    try:\n",
    "        t1 = time.time()\n",
    "        frame = get_frame(cam)\n",
    "        frame = cv2.cvtColor(frame, cv2.COLOR_BGR2RGB)\n",
    "        frame = image_reshape(frame, dimension=200)\n",
    "        \n",
    "        result = model.predict(frame.reshape(1,200,200,3))\n",
    "        if result[0][0] > .5:\n",
    "            prediction = 'mask'\n",
    "        else :\n",
    "            prediction = 'unmask'\n",
    "\n",
    "        im = array_to_image(frame)\n",
    "        d.update(im)\n",
    "\n",
    "        t2 = time.time()\n",
    "\n",
    "#         s = f\"\"\"{int(1/(t2-t1))} FPS\"\"\"\n",
    "        d2.update( IPython.display.HTML(prediction) )\n",
    "    except KeyboardInterrupt:\n",
    "        print()\n",
    "        cam.release()\n",
    "        IPython.display.clear_output()\n",
    "        print (\"Stream stopped\")\n",
    "        break"
   ]
  },
  {
   "cell_type": "code",
   "execution_count": 11,
   "metadata": {},
   "outputs": [
    {
     "data": {
      "text/plain": [
       "(200, 200, 3)"
      ]
     },
     "execution_count": 11,
     "metadata": {},
     "output_type": "execute_result"
    }
   ],
   "source": [
    "frame.shape"
   ]
  },
  {
   "cell_type": "code",
   "execution_count": 14,
   "metadata": {},
   "outputs": [
    {
     "data": {
      "text/plain": [
       "(200, 200, 3)"
      ]
     },
     "execution_count": 14,
     "metadata": {},
     "output_type": "execute_result"
    }
   ],
   "source": [
    "frame.shape"
   ]
  },
  {
   "cell_type": "code",
   "execution_count": 15,
   "metadata": {},
   "outputs": [
    {
     "ename": "NameError",
     "evalue": "name 'test_image' is not defined",
     "output_type": "error",
     "traceback": [
      "\u001b[0;31m---------------------------------------------------------------------------\u001b[0m",
      "\u001b[0;31mNameError\u001b[0m                                 Traceback (most recent call last)",
      "\u001b[0;32m<ipython-input-15-3ce5048cdae6>\u001b[0m in \u001b[0;36m<module>\u001b[0;34m\u001b[0m\n\u001b[0;32m----> 1\u001b[0;31m \u001b[0mtest_image\u001b[0m\u001b[0;34m.\u001b[0m\u001b[0mshape\u001b[0m\u001b[0;34m\u001b[0m\u001b[0;34m\u001b[0m\u001b[0m\n\u001b[0m",
      "\u001b[0;31mNameError\u001b[0m: name 'test_image' is not defined"
     ]
    }
   ],
   "source": [
    "test_image.shape"
   ]
  },
  {
   "cell_type": "code",
   "execution_count": 20,
   "metadata": {},
   "outputs": [
    {
     "name": "stdout",
     "output_type": "stream",
     "text": [
      "unmask\n"
     ]
    }
   ],
   "source": [
    "result = model.predict(frame.reshape(1,200,200,3))\n",
    "if result[0][0] > .5:\n",
    "    prediction = 'mask'\n",
    "else :\n",
    "    prediction = 'unmask'\n",
    "print(prediction)"
   ]
  },
  {
   "cell_type": "code",
   "execution_count": 19,
   "metadata": {},
   "outputs": [
    {
     "name": "stdout",
     "output_type": "stream",
     "text": [
      "[[0. 1.]]\n"
     ]
    }
   ],
   "source": [
    "print(result)"
   ]
  },
  {
   "cell_type": "code",
   "execution_count": 16,
   "metadata": {},
   "outputs": [
    {
     "name": "stdout",
     "output_type": "stream",
     "text": [
      "[0. 1.]\n"
     ]
    }
   ],
   "source": [
    "# EXAMPLE\n",
    "\n",
    "#For Predicting on single Image\n",
    "from tensorflow.keras.preprocessing import image\n",
    "# test_image = image.load_img('New Masks Dataset/Test/Mask/2300.png', target_size = (200,200,3))\n",
    "test_image = image.load_img('New Masks Dataset/Test/Non Mask/real_01081.jpg', target_size = (200,200,3))\n",
    "test_image = image.img_to_array(test_image)\n",
    "test_image = np.expand_dims(test_image, axis = 0)\n",
    "result = model.predict(test_image)\n",
    "print(result[0])\n",
    "if result[0][0] > .5:\n",
    "    prediction = 'mask'\n",
    "else :\n",
    "    prediction = 'unmask'\n",
    "print(prediction)"
   ]
  },
  {
   "cell_type": "code",
   "execution_count": 17,
   "metadata": {},
   "outputs": [
    {
     "data": {
      "text/plain": [
       "(1, 200, 200, 3)"
      ]
     },
     "execution_count": 17,
     "metadata": {},
     "output_type": "execute_result"
    }
   ],
   "source": [
    "test_image.shape"
   ]
  },
  {
   "cell_type": "code",
   "execution_count": null,
   "metadata": {},
   "outputs": [],
   "source": [
    "# from cv2 import *\n",
    "# camera = cv2.VideoCapture(1)\n",
    "\n",
    "# while cv2.waitKey(1) != 27:\n",
    "#     _, image = camera.read()\n",
    "#     cv2.imshow(\"\",image)\n",
    "    "
   ]
  },
  {
   "cell_type": "code",
   "execution_count": null,
   "metadata": {},
   "outputs": [],
   "source": [
    "# \\print(image.load_img('New Masks Dataset/Test/Non Mask/real_01081.jpg'))"
   ]
  },
  {
   "cell_type": "code",
   "execution_count": null,
   "metadata": {},
   "outputs": [],
   "source": [
    "# #For Prediction using WebCam (Will not work on Kraggle only on local Jupyter Notebook)\n",
    "\n",
    "# import cv2 \n",
    "# face_clsfr=cv2.CascadeClassifier('Downloads/haarscade_frontalface_default.xml') # to detect the face (need to download it)\n"
   ]
  },
  {
   "cell_type": "code",
   "execution_count": null,
   "metadata": {},
   "outputs": [],
   "source": [
    "\n",
    "# labels_dict={0:'NO Mask',1:'Mask'}\n",
    "# color_dict={0:(0,255,0),1:(0,0,255)}\n",
    "\n",
    "# size = 4\n",
    "# webcam = cv2.VideoCapture(0) #Use camera 0\n",
    "\n",
    "# # We load the xml file\n",
    "# classifier = cv2.CascadeClassifier('../haarcascade_frontalface_default.xml')\n",
    "\n",
    "# while True:\n",
    "#     (rval, im) = webcam.read()\n",
    "#     im=cv2.flip(im,1,1) #Flip to act as a mirror\n",
    "\n",
    "#     # Resize the image to speed up detection\n",
    "#     mini = cv2.resize(im, (im.shape[1] // size, im.shape[0] // size))\n",
    "\n",
    "#     # detect MultiScale / faces \n",
    "#     faces = classifier.detectMultiScale(mini)\n",
    "\n",
    "#     # Draw rectangles around each face\n",
    "#     for f in faces:\n",
    "#         (x, y, w, h) = [v * size for v in f] #Scale the shapesize backup\n",
    "#         #Save just the rectangle faces in Face_img\n",
    "#         face_img = im[y:y+h, x:x+w] \n",
    "#         cv2.imwrite('temp.jpg',face_img)\n",
    "#         test_image=image.load_img('temp.jpg',target_size=(200,200,3))\n",
    "#         test_image=image.img_to_array(test_image)\n",
    "#         test_image=np.expand_dims(test_image,axis=0)\n",
    "#         result=model.predict(test_image)\n",
    "#         answer = model.predict_classes(test_image)\n",
    "#         train_generator.class_indices\n",
    "#         if result[0][0]==1:\n",
    "#             prediction = 1\n",
    "#         else :\n",
    "#             prediction = 0\n",
    "#         print(prediction)\n",
    "#         print(result)\n",
    "        \n",
    "#         label=np.argmax(result,axis=1)[0]\n",
    "      \n",
    "#         cv2.rectangle(im,(x,y),(x+w,y+h),color_dict[label],2)\n",
    "#         cv2.rectangle(im,(x,y-40),(x+w,y),color_dict[label],-1)\n",
    "#         cv2.putText(im, labels_dict[prediction], (x, y-10),cv2.FONT_HERSHEY_SIMPLEX,0.8,(255,255,255),2)\n",
    "        \n",
    "#     # Show the image\n",
    "#     cv2.imshow('LIVE',   im)\n",
    "#     key = cv2.waitKey(10)\n",
    "#     # if Esc key is press then break out of the loop \n",
    "#     if key == 27: #The Esc key\n",
    "#         break\n",
    "# # Stop video\n",
    "# webcam.release()\n",
    "\n",
    "# # Close all started windows\n",
    "# cv2.destroyAllWindows()"
   ]
  },
  {
   "cell_type": "markdown",
   "metadata": {},
   "source": [
    "# Testing"
   ]
  },
  {
   "cell_type": "code",
   "execution_count": null,
   "metadata": {},
   "outputs": [],
   "source": [
    "# ! ls .."
   ]
  },
  {
   "cell_type": "code",
   "execution_count": null,
   "metadata": {},
   "outputs": [],
   "source": [
    "# webcam = cv2.VideoCapture(0) #Use camera 0"
   ]
  },
  {
   "cell_type": "code",
   "execution_count": null,
   "metadata": {},
   "outputs": [],
   "source": [
    "# print(webcam)\n",
    "# webcam.isOpened()"
   ]
  },
  {
   "cell_type": "code",
   "execution_count": null,
   "metadata": {},
   "outputs": [],
   "source": [
    "# (rval, im) = webcam.read()\n",
    "# im=cv2.flip(im,1,1) #Flip to act as a mirror\n",
    "\n",
    "# # Resize the image to speed up detection\n",
    "# mini = cv2.resize(im, (im.shape[1] // size, im.shape[0] // size))"
   ]
  },
  {
   "cell_type": "code",
   "execution_count": null,
   "metadata": {},
   "outputs": [],
   "source": [
    "# print(mini)"
   ]
  },
  {
   "cell_type": "code",
   "execution_count": null,
   "metadata": {},
   "outputs": [],
   "source": [
    "# print(im)"
   ]
  },
  {
   "cell_type": "code",
   "execution_count": null,
   "metadata": {},
   "outputs": [],
   "source": [
    "# dir(webcam)"
   ]
  },
  {
   "cell_type": "code",
   "execution_count": null,
   "metadata": {},
   "outputs": [],
   "source": [
    "# import ipywidgets"
   ]
  },
  {
   "cell_type": "code",
   "execution_count": null,
   "metadata": {},
   "outputs": [],
   "source": [
    "\n",
    "# labels_dict={0:'NO Mask',1:'Mask'}\n",
    "# color_dict={0:(0,255,0),1:(0,0,255)}\n",
    "\n",
    "# size = 4\n",
    "# webcam = cv2.VideoCapture(0) #Use camera 0\n",
    "\n",
    "# # We load the xml file\n",
    "# classifier = cv2.CascadeClassifier('../haarcascade_frontalface_default.xml')\n",
    "\n",
    "# while True:\n",
    "#     (rval, im) = webcam.read()\n",
    "#     im=cv2.flip(im,1,1) #Flip to act as a mirror\n",
    "\n",
    "#     # Resize the image to speed up detection\n",
    "#     mini = cv2.resize(im, (im.shape[1] // size, im.shape[0] // size))\n",
    "\n",
    "#     # detect MultiScale / faces \n",
    "#     faces = classifier.detectMultiScale(mini)\n",
    "\n",
    "#     # Draw rectangles around each face\n",
    "#     for f in faces:\n",
    "#         (x, y, w, h) = [v * size for v in f] #Scale the shapesize backup\n",
    "#         #Save just the rectangle faces in Face_img\n",
    "#         face_img = im[y:y+h, x:x+w] \n",
    "#         cv2.imwrite('temp.jpg',face_img)\n",
    "#         test_image=image.load_img('temp.jpg',target_size=(200,200,3))\n",
    "#         test_image=image.img_to_array(test_image)\n",
    "#         test_image=np.expand_dims(test_image,axis=0)\n",
    "#         result=model.predict(test_image)\n",
    "#         answer = model.predict_classes(test_image)\n",
    "#         train_generator.class_indices\n",
    "#         if result[0][0]==1:\n",
    "#             prediction = 1\n",
    "#         else :\n",
    "#             prediction = 0\n",
    "#         print(prediction)\n",
    "#         print(result)\n",
    "        \n",
    "#         label=np.argmax(result,axis=1)[0]\n",
    "      \n",
    "#         cv2.rectangle(im,(x,y),(x+w,y+h),color_dict[label],2)\n",
    "#         cv2.rectangle(im,(x,y-40),(x+w,y),color_dict[label],-1)\n",
    "#         cv2.putText(im, labels_dict[prediction], (x, y-10),cv2.FONT_HERSHEY_SIMPLEX,0.8,(255,255,255),2)\n",
    "        \n",
    "#     # Show the image\n",
    "#     cv2.imshow('LIVE',   im)\n",
    "#     key = cv2.waitKey(10)\n",
    "#     # if Esc key is press then break out of the loop \n",
    "#     if key == 27: #The Esc key\n",
    "#         break\n",
    "# # Stop video\n",
    "# webcam.release()\n",
    "\n",
    "# # Close all started windows\n",
    "# cv2.destroyAllWindows()"
   ]
  },
  {
   "cell_type": "code",
   "execution_count": null,
   "metadata": {},
   "outputs": [],
   "source": []
  },
  {
   "cell_type": "code",
   "execution_count": null,
   "metadata": {},
   "outputs": [],
   "source": []
  },
  {
   "cell_type": "code",
   "execution_count": null,
   "metadata": {},
   "outputs": [],
   "source": []
  },
  {
   "cell_type": "code",
   "execution_count": null,
   "metadata": {},
   "outputs": [],
   "source": []
  }
 ],
 "metadata": {
  "kernelspec": {
   "display_name": "Python 3",
   "language": "python",
   "name": "python3"
  },
  "language_info": {
   "codemirror_mode": {
    "name": "ipython",
    "version": 3
   },
   "file_extension": ".py",
   "mimetype": "text/x-python",
   "name": "python",
   "nbconvert_exporter": "python",
   "pygments_lexer": "ipython3",
   "version": "3.8.5"
  }
 },
 "nbformat": 4,
 "nbformat_minor": 4
}
