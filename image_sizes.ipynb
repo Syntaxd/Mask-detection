{
 "cells": [
  {
   "cell_type": "code",
   "execution_count": 20,
   "metadata": {},
   "outputs": [],
   "source": [
    "import cv2\n",
    "import time\n",
    "import os\n",
    "import PIL.Image"
   ]
  },
  {
   "cell_type": "code",
   "execution_count": null,
   "metadata": {},
   "outputs": [],
   "source": []
  },
  {
   "cell_type": "markdown",
   "metadata": {},
   "source": [
    "# Data"
   ]
  },
  {
   "cell_type": "code",
   "execution_count": 21,
   "metadata": {},
   "outputs": [],
   "source": [
    "image_dir = 'Dataset'"
   ]
  },
  {
   "cell_type": "markdown",
   "metadata": {},
   "source": [
    "# Enumerate all the images"
   ]
  },
  {
   "cell_type": "code",
   "execution_count": 22,
   "metadata": {},
   "outputs": [
    {
     "name": "stdout",
     "output_type": "stream",
     "text": [
      "['with_mask', 'without_mask']\n"
     ]
    }
   ],
   "source": [
    "classes = []\n",
    "for f in os.listdir(image_dir):\n",
    "    if not f.startswith('.'):\n",
    "        classes.append(f)\n",
    "print(classes)"
   ]
  },
  {
   "cell_type": "code",
   "execution_count": 57,
   "metadata": {},
   "outputs": [
    {
     "name": "stdout",
     "output_type": "stream",
     "text": [
      "Class: with_mask\n",
      "Processed 1000 images\n",
      "Processed 2000 images\n",
      "Processed 3000 images\n",
      "Class: without_mask\n",
      "Processed 4000 images\n",
      "Processed 5000 images\n",
      "Processed 6000 images\n",
      "Processed 7000 images\n",
      "Found 7553 images\n",
      "Found 2692 shapes\n"
     ]
    }
   ],
   "source": [
    "count = 0\n",
    "all_shapes = {}\n",
    "for c in classes:\n",
    "    print('Class: {cls}'.format(cls=c))\n",
    "    for f in os.listdir(os.path.join(image_dir, c)):\n",
    "        if f.startswith('.'):\n",
    "            continue\n",
    "\n",
    "        path = os.path.join(image_dir, c, f)\n",
    "        img = cv2.imread(path)\n",
    "        shape = img.shape\n",
    "        \n",
    "        if shape in all_shapes:\n",
    "            all_shapes[shape] += 1\n",
    "        else:\n",
    "            all_shapes[shape] = 1\n",
    "        count += 1\n",
    "        if (count%1000) == 0:\n",
    "            print('Processed {} images'.format(count))\n",
    "print('Found {} images'.format(count))\n",
    "print('Found {} shapes'.format(len(all_shapes)))"
   ]
  },
  {
   "cell_type": "code",
   "execution_count": 58,
   "metadata": {},
   "outputs": [],
   "source": [
    "import matplotlib"
   ]
  },
  {
   "cell_type": "code",
   "execution_count": 126,
   "metadata": {},
   "outputs": [
    {
     "name": "stdout",
     "output_type": "stream",
     "text": [
      "(225, 225, 3): 664\n",
      "(428, 320, 3): 381\n",
      "(275, 183, 3): 255\n",
      "(100, 100, 3): 207\n",
      "(183, 275, 3): 181\n",
      "(259, 194, 3): 159\n",
      "(194, 259, 3): 157\n",
      "(168, 300, 3): 122\n",
      "(251, 201, 3): 101\n",
      "(433, 320, 3): 89\n",
      "(168, 299, 3): 46\n",
      "(433, 327, 3): 45\n",
      "(246, 205, 3): 42\n",
      "(190, 265, 3): 41\n",
      "(1000, 1000, 3): 30\n",
      "(259, 195, 3): 29\n",
      "(224, 224, 3): 27\n",
      "(274, 184, 3): 27\n",
      "(159, 318, 3): 25\n",
      "(224, 225, 3): 24\n"
     ]
    }
   ],
   "source": [
    "width = []\n",
    "height = []\n",
    "aspect = []\n",
    "data = []\n",
    "\n",
    "for k, v in all_shapes.items():\n",
    "    (h, w, c) = k\n",
    "    width.append(w)\n",
    "    height.append(h)\n",
    "    for x in range(v):\n",
    "        aspect.append(float(w)/h)\n",
    "    data.append((k, v))\n",
    "data = sorted(data, key=lambda x: -x[1])\n",
    "\n",
    "for x in range(20):\n",
    "    print('{}: {}'.format(data[x][0], data[x][1]))\n",
    "    "
   ]
  },
  {
   "cell_type": "code",
   "execution_count": null,
   "metadata": {},
   "outputs": [],
   "source": []
  },
  {
   "cell_type": "code",
   "execution_count": 77,
   "metadata": {},
   "outputs": [
    {
     "data": {
      "image/png": "[encoded data removed]",
      "text/plain": [
       "<Figure size 432x288 with 1 Axes>"
      ]
     },
     "metadata": {},
     "output_type": "display_data"
    }
   ],
   "source": [
    "from matplotlib import pyplot as plt\n",
    "plt.style.use('ggplot')\n",
    "plt.scatter(width, height)\n",
    "plt.xlabel('Width') \n",
    "plt.ylabel('Height') \n",
    "# plt.legend() \n",
    "plt.show() "
   ]
  },
  {
   "cell_type": "code",
   "execution_count": 135,
   "metadata": {},
   "outputs": [
    {
     "data": {
      "image/png": "[encoded data removed]",
      "text/plain": [
       "<Figure size 432x288 with 1 Axes>"
      ]
     },
     "metadata": {},
     "output_type": "display_data"
    }
   ],
   "source": [
    "from matplotlib import pyplot as plt\n",
    "plt.style.use('ggplot')\n",
    "plt.hist(aspect, 100)\n",
    "plt.show() "
   ]
  },
  {
   "cell_type": "code",
   "execution_count": null,
   "metadata": {},
   "outputs": [],
   "source": []
  },
  {
   "cell_type": "code",
   "execution_count": null,
   "metadata": {},
   "outputs": [],
   "source": []
  },
  {
   "cell_type": "code",
   "execution_count": null,
   "metadata": {},
   "outputs": [],
   "source": []
  },
  {
   "cell_type": "code",
   "execution_count": null,
   "metadata": {},
   "outputs": [],
   "source": []
  }
 ],
 "metadata": {
  "kernelspec": {
   "display_name": "Python 3",
   "language": "python",
   "name": "python3"
  },
  "language_info": {
   "codemirror_mode": {
    "name": "ipython",
    "version": 3
   },
   "file_extension": ".py",
   "mimetype": "text/x-python",
   "name": "python",
   "nbconvert_exporter": "python",
   "pygments_lexer": "ipython3",
   "version": "3.8.5"
  }
 },
 "nbformat": 4,
 "nbformat_minor": 4
}
