{
 "cells": [
  {
   "cell_type": "code",
   "execution_count": 2,
   "metadata": {
    "_cell_guid": "b1076dfc-b9ad-4769-8c92-a6c4dae69d19",
    "_uuid": "8f2839f25d086af736a60e9eeb907d3b93b6e0e5"
   },
   "outputs": [
    {
     "name": "stdout",
     "output_type": "stream",
     "text": [
      "Importing all libraries\n"
     ]
    }
   ],
   "source": [
    "print('Importing all libraries')\n",
    "# This Python 3 environment comes with many helpful analytics libraries installed\n",
    "# It is defined by the kaggle/python Docker image: https://github.com/kaggle/docker-python\n",
    "# For example, here's several helpful packages to load\n",
    "\n",
    "import numpy as np # linear algebra\n",
    "import pandas as pd # data processing, CSV file I/O (e.g. pd.read_csv)\n",
    "import tensorflow as tf\n",
    "from tensorflow import keras as keras\n",
    "from tensorflow.keras.models import Sequential\n",
    "from tensorflow.keras.layers import Dense,Activation,Flatten,Dropout\n",
    "from tensorflow.keras.layers import Conv2D,MaxPooling2D\n",
    "from tensorflow.keras.callbacks import ModelCheckpoint\n",
    "from tensorflow.keras.preprocessing.image import ImageDataGenerator\n",
    "from tensorflow.keras import layers\n",
    "\n",
    "import cv2, IPython, PIL, time\n",
    "from io import BytesIO\n",
    "\n",
    "# Input data files are available in the read-only \"../input/\" directory\n",
    "# For example, running this (by clicking run or pressing Shift+Enter) will list all files under the input directory\n",
    "\n",
    "\n",
    "# You can write up to 20GB to the current directory (/kaggle/working/) that gets preserved as output when you create a version using \"Save & Run All\" \n",
    "# You can also write temporary files to /kaggle/temp/, but they won't be saved outside of the current session"
   ]
  },
  {
   "cell_type": "code",
   "execution_count": 3,
   "metadata": {},
   "outputs": [
    {
     "name": "stdout",
     "output_type": "stream",
     "text": [
      "Files found\n"
     ]
    }
   ],
   "source": [
    "datagen = ImageDataGenerator (\n",
    "            rescale = 1./255, \n",
    "            shear_range=0.2,\n",
    "            zoom_range=0.2,\n",
    "            horizontal_flip=True,\n",
    "            )\n",
    "images_dir = './New Masks Dataset/'\n",
    "print('Files found')"
   ]
  },
  {
   "cell_type": "code",
   "execution_count": 44,
   "metadata": {
    "_cell_guid": "79c7e3d0-c299-4dcb-8224-4455121ee9b0",
    "_uuid": "d629ff2d2480ee46fbb7e2d37f6b5fab8052498a"
   },
   "outputs": [
    {
     "name": "stdout",
     "output_type": "stream",
     "text": [
      "Training set: ./New Masks Dataset/Train\n",
      "Found 600 images belonging to 2 classes.\n",
      "Test set: ./New Masks Dataset/Test\n",
      "Found 111 images belonging to 2 classes.\n",
      "Validation set :./New Masks Dataset/Validation\n",
      "Found 306 images belonging to 2 classes.\n"
     ]
    }
   ],
   "source": [
    "# load the data using data generators\n",
    "print('Training set: ' + images_dir + 'Train')\n",
    "train_generator  =    datagen.flow_from_directory(\n",
    "                             images_dir + 'Train',\n",
    "                             seed=42,\n",
    "                             target_size = (200,200),\n",
    "                             batch_size =64 ,               \n",
    "                             class_mode = 'binary',\n",
    "                            )\n",
    "\n",
    "print('Test set: ' + images_dir + 'Test')\n",
    "test_generator = datagen.flow_from_directory(\n",
    "                             images_dir + 'Test' ,\n",
    "                             seed=42, \n",
    "                             target_size = (200,200),\n",
    "                             batch_size = 64 ,               \n",
    "                             class_mode = 'binary',\n",
    "                            )\n",
    "\n",
    "print('Validation set :' + images_dir + 'Validation')\n",
    "validation_generator = datagen.flow_from_directory(\n",
    "                             images_dir + 'Validation' ,\n",
    "                             seed=42, \n",
    "                             target_size = (200,200),\n",
    "                             batch_size = 64 ,               \n",
    "                             class_mode = 'binary',\n",
    "                            )"
   ]
  },
  {
   "cell_type": "code",
   "execution_count": 5,
   "metadata": {},
   "outputs": [
    {
     "name": "stdout",
     "output_type": "stream",
     "text": [
      "Model defnined\n"
     ]
    }
   ],
   "source": [
    "from tensorflow.keras.layers import Dense,Activation,Flatten,Dropout\n",
    "from tensorflow.keras.layers import Conv2D,MaxPooling2D\n",
    "from tensorflow.keras.callbacks import ModelCheckpoint\n",
    "\n",
    "model=Sequential()\n",
    "\n",
    "model.add(Conv2D(32,(3,3),input_shape=(200,200,3)))\n",
    "model.add(Activation('relu'))\n",
    "model.add(MaxPooling2D(pool_size=(2,2)))\n",
    "#The first CNN layer followed by Relu and MaxPooling layers\n",
    "\n",
    "model.add(Conv2D(64,(3,3)))\n",
    "model.add(Activation('relu'))\n",
    "model.add(MaxPooling2D(pool_size=(2,2)))\n",
    "#The second convolution layer followed by Relu and MaxPooling layers\n",
    "\n",
    "model.add(Flatten())\n",
    "model.add(Dropout(0.5))\n",
    "#Flatten layer to stack the output convolutions from second convolution layer\n",
    "model.add(Dense(128,activation='relu'))\n",
    "#Dense layer of 128 neurons\n",
    "model.add(Dense(2,activation='softmax'))\n",
    "#The Final layer with two outputs for two categories\n",
    "\n",
    "# model.compile(loss='sparse_categorical_crossentropy',optimizer='adam',metrics=['accuracy'])\n",
    "\n",
    "model.compile(optimizer='adam',\n",
    "              loss=tf.keras.losses.SparseCategoricalCrossentropy(from_logits=True), \n",
    "              metrics=['accuracy'])\n",
    "print('Model defnined')"
   ]
  },
  {
   "cell_type": "code",
   "execution_count": 45,
   "metadata": {},
   "outputs": [
    {
     "name": "stdout",
     "output_type": "stream",
     "text": [
      "Epoch 1/10\n",
      "5/5 [==============================] - 25s 5s/step - loss: 0.0882 - accuracy: 0.9667 - val_loss: 0.2788 - val_accuracy: 0.8954\n",
      "Epoch 2/10\n",
      "5/5 [==============================] - 20s 4s/step - loss: 0.0910 - accuracy: 0.9617 - val_loss: 0.3586 - val_accuracy: 0.8791\n",
      "Epoch 3/10\n",
      "5/5 [==============================] - 22s 4s/step - loss: 0.1348 - accuracy: 0.9333 - val_loss: 0.3464 - val_accuracy: 0.8922\n",
      "Epoch 4/10\n",
      "5/5 [==============================] - 21s 4s/step - loss: 0.1038 - accuracy: 0.9650 - val_loss: 0.2869 - val_accuracy: 0.8889\n",
      "Epoch 5/10\n",
      "5/5 [==============================] - 21s 4s/step - loss: 0.0914 - accuracy: 0.9650 - val_loss: 0.2895 - val_accuracy: 0.8987\n",
      "Epoch 6/10\n",
      "5/5 [==============================] - 21s 4s/step - loss: 0.0757 - accuracy: 0.9733 - val_loss: 0.3167 - val_accuracy: 0.8922\n",
      "Epoch 7/10\n",
      "5/5 [==============================] - 21s 4s/step - loss: 0.0857 - accuracy: 0.9667 - val_loss: 0.3390 - val_accuracy: 0.8791\n",
      "Epoch 8/10\n",
      "5/5 [==============================] - 20s 4s/step - loss: 0.0659 - accuracy: 0.9750 - val_loss: 0.3450 - val_accuracy: 0.8693\n",
      "Epoch 9/10\n",
      "5/5 [==============================] - 21s 4s/step - loss: 0.0532 - accuracy: 0.9783 - val_loss: 0.3332 - val_accuracy: 0.8987\n",
      "Epoch 10/10\n",
      "5/5 [==============================] - 21s 5s/step - loss: 0.0535 - accuracy: 0.9817 - val_loss: 0.3514 - val_accuracy: 0.8954\n"
     ]
    }
   ],
   "source": [
    "H = model.fit(\n",
    "        train_generator,\n",
    "        epochs = 10,\n",
    "        validation_data = validation_generator,\n",
    "        shuffle=True,)\n",
    "# https://www.tensorflow.org/tutorials/keras/save_and_load"
   ]
  },
  {
   "cell_type": "code",
   "execution_count": null,
   "metadata": {},
   "outputs": [],
   "source": []
  },
  {
   "cell_type": "code",
   "execution_count": 46,
   "metadata": {},
   "outputs": [
    {
     "data": {
      "image/png": "[encoded data removed]",
      "text/plain": [
       "<Figure size 432x288 with 1 Axes>"
      ]
     },
     "metadata": {},
     "output_type": "display_data"
    }
   ],
   "source": [
    "from matplotlib import pyplot as plt\n",
    "plt.style.use('ggplot')\n",
    "plots = ['val_accuracy','val_loss', 'accuracy', 'loss']\n",
    "co = ['red','green','blue', 'orange']\n",
    "cu = 0\n",
    "for what in plots:\n",
    "    y1 = []\n",
    "    for x in H.history[what]:\n",
    "        y1.append(x)\n",
    "    plt.plot(H.epoch, y1, color=co[cu],linewidth = 1, label = what)\n",
    "    cu +=1\n",
    "plt.xlabel('Epoch') \n",
    "plt.ylabel('Accuracy') \n",
    "plt.legend() \n",
    "plt.show() \n"
   ]
  },
  {
   "cell_type": "code",
   "execution_count": 47,
   "metadata": {},
   "outputs": [],
   "source": [
    "def image_resize(image, height = None, inter = cv2.INTER_AREA):\n",
    "    dim = None\n",
    "    (h, w) = image.shape[:2]\n",
    "    r = height / float(h)\n",
    "    dim = (int(w * r), height)\n",
    "    return cv2.resize(image, dim, interpolation = inter)\n",
    "\n",
    "def image_reshape(image, dimension=200): \n",
    "    image = image_resize(image, height=dimension)\n",
    "    (h, w, c) = image.shape\n",
    "    offset = int((w-dimension)/2)\n",
    "    image = image[0:dimension, offset:dimension+offset, 0:c]\n",
    "    return image\n",
    "def get_frame(cam):\n",
    "    ret, frame = cam.read()\n",
    "    frame = cv2.flip(frame, 1)\n",
    "\n",
    "    return frame\n",
    "def array_to_image(a, fmt='jpeg'):\n",
    "    f = BytesIO()\n",
    "    PIL.Image.fromarray(a).save(f, fmt)\n",
    "    return IPython.display.Image(data=f.getvalue())"
   ]
  },
  {
   "cell_type": "code",
   "execution_count": null,
   "metadata": {},
   "outputs": [
    {
     "data": {
      "image/jpeg": "[encoded data removed]",
      "text/plain": [
       "<IPython.core.display.Image object>"
      ]
     },
     "metadata": {},
     "output_type": "display_data"
    },
    {
     "data": {
      "text/html": [
       "unmask"
      ],
      "text/plain": [
       "<IPython.core.display.HTML object>"
      ]
     },
     "metadata": {},
     "output_type": "display_data"
    },
    {
     "data": {
      "text/html": [
       "13 FPS"
      ],
      "text/plain": [
       "<IPython.core.display.HTML object>"
      ]
     },
     "metadata": {},
     "output_type": "display_data"
    }
   ],
   "source": [
    "from tensorflow.keras.preprocessing import image\n",
    "cam = cv2.VideoCapture(1)\n",
    "\n",
    "d = IPython.display.display(\"\", display_id=1)\n",
    "d2 = IPython.display.display(\"\", display_id=2)\n",
    "d3 = IPython.display.display(\"\", display_id=3)\n",
    "\n",
    "while True:\n",
    "    try:\n",
    "        t1 = time.time()\n",
    "        frame = get_frame(cam)\n",
    "        frame = cv2.cvtColor(frame, cv2.COLOR_BGR2RGB)\n",
    "        frame = image_reshape(frame, dimension=200)\n",
    "        \n",
    "        result = model.predict(frame.reshape(1,200,200,3))\n",
    "        if result[0][0] > .5:\n",
    "            prediction = 'mask'\n",
    "        else :\n",
    "            prediction = 'unmask'\n",
    "\n",
    "        im = array_to_image(frame)\n",
    "        d.update(im)\n",
    "\n",
    "        t2 = time.time()\n",
    "\n",
    "        s = f\"\"\"{int(1/(t2-t1))} FPS\"\"\"\n",
    "        d2.update( IPython.display.HTML(prediction))\n",
    "        d3.update( IPython.display.HTML(s))\n",
    "    except KeyboardInterrupt:\n",
    "        cam.release()\n",
    "        IPython.display.clear_output()\n",
    "        print (\"Stream stopped\")\n",
    "        break"
   ]
  },
  {
   "cell_type": "code",
   "execution_count": 37,
   "metadata": {},
   "outputs": [
    {
     "name": "stdout",
     "output_type": "stream",
     "text": [
      "[0. 1.]\n",
      "unmask\n"
     ]
    }
   ],
   "source": [
    "# EXAMPLE\n",
    "\n",
    "#For Predicting on single Image\n",
    "from tensorflow.keras.preprocessing import image\n",
    "# test_image = image.load_img('New Masks Dataset/Test/Mask/2300.png', target_size = (200,200,3))\n",
    "test_image = image.load_img('New Masks Dataset/Test/Non Mask/real_01081.jpg', target_size = (200,200,3))\n",
    "test_image = image.img_to_array(test_image)\n",
    "test_image = np.expand_dims(test_image, axis = 0)\n",
    "result = model.predict(test_image)\n",
    "print(result[0])\n",
    "if result[0][0] > .5:\n",
    "    prediction = 'mask'\n",
    "else :\n",
    "    prediction = 'unmask'\n",
    "print(prediction)"
   ]
  },
  {
   "cell_type": "code",
   "execution_count": null,
   "metadata": {},
   "outputs": [],
   "source": []
  }
 ],
 "metadata": {
  "kernelspec": {
   "display_name": "Python 3",
   "language": "python",
   "name": "python3"
  },
  "language_info": {
   "codemirror_mode": {
    "name": "ipython",
    "version": 3
   },
   "file_extension": ".py",
   "mimetype": "text/x-python",
   "name": "python",
   "nbconvert_exporter": "python",
   "pygments_lexer": "ipython3",
   "version": "3.8.5"
  }
 },
 "nbformat": 4,
 "nbformat_minor": 4
}
